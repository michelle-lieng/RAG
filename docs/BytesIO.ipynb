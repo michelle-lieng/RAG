{
 "cells": [
  {
   "cell_type": "markdown",
   "metadata": {},
   "source": [
    "12/2/24\n",
    "\n",
    "This was the previous create_vectordb function. Nedd to figure out why was BytesIO neccessary."
   ]
  },
  {
   "cell_type": "code",
   "execution_count": null,
   "metadata": {},
   "outputs": [],
   "source": [
    "\"\"\"\n",
    "def create_vectordb(pdf_files: List[str], pdf_names: List[str], openai_api_key: str -> db):\n",
    "    \n",
    "    documents = []\n",
    "\n",
    "    for pdf_file, pdf_name in zip(pdf_files, pdf_names):\n",
    "\n",
    "        # open the PDF file in binary mode ('rb') and ensure its content is read as bytes-like object\n",
    "        with open(pdf_file, 'rb') as file: \n",
    "            pdf_file = file.read()\n",
    "\n",
    "        text, filename = parse_pdf(BytesIO(pdf_file), pdf_name)\n",
    "        documents = documents + text_to_docs(text, filename)\n",
    "\n",
    "    # documents are the cleaned and chucked PDF data\n",
    "    # this data is then turned into a vector db\n",
    "    \n",
    "    embeddings = OpenAIEmbeddings(openai_api_key=openai_api_key)\n",
    "    db = FAISS.from_documents(documents, embeddings)\n",
    "\n",
    "    return db\n",
    "\"\"\"     "
   ]
  }
 ],
 "metadata": {
  "language_info": {
   "name": "python"
  }
 },
 "nbformat": 4,
 "nbformat_minor": 2
}
