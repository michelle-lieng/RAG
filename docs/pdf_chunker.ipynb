{
 "cells": [
  {
   "cell_type": "markdown",
   "metadata": {},
   "source": [
    "## Understanding pdf_chunker functions\n",
    "\n",
    "Links:\n",
    "- https://python.langchain.com/docs/integrations/document_loaders/copypaste\n",
    "- https://pypi.org/project/pypdf/\n",
    "- https://python.langchain.com/docs/modules/data_connection/document_transformers/recursive_text_splitter"
   ]
  },
  {
   "cell_type": "code",
   "execution_count": 1,
   "metadata": {},
   "outputs": [
    {
     "name": "stdout",
     "output_type": "stream",
     "text": [
      "6\n"
     ]
    }
   ],
   "source": [
    "from pypdf import PdfReader\n",
    "\n",
    "reader = PdfReader(r\"C:\\Users\\Michelle\\Data_Science_Code\\RAG-chatbot\\data\\qantas_points_tncs.pdf\")\n",
    "number_of_pages = len(reader.pages)\n",
    "print(number_of_pages)"
   ]
  },
  {
   "cell_type": "code",
   "execution_count": 2,
   "metadata": {},
   "outputs": [
    {
     "data": {
      "text/plain": [
       "'notified to you from time to time, for every one Australian dollar (AUD) \\nspent on goods and services, charged and billed on the Card Account. \\nSubject to these terms and conditions, Qantas Points are calculated on \\neach purchase of goods or services charged to your Card. Only whole \\nQantas Points are credited. Accrued Points shall be rounded to the nearest \\nwhole Qantas Point in accordance with the generally accepted principles in \\nrespect of rounding rules. For details on the number of Qantas Points \\nawarded for each transaction type, please contact American Express using \\nthe telephone number printed on the back of your Card.\\n3.2  Exemptions\\n No Qantas Points accrue in respect of:\\n (a)  charges prepaid prior to the first billing statement for that Card \\nAccount following the Enrolment Date;\\n (b)  Cash advance and other cash services or cash equivalents;\\n (c)  American Express Travellers Cheque and gift cheque purchases;\\n (d) charges for dishonoured payments;\\n (e) interest charges;\\n (f) annual Card fees;\\n (g) late payment charges; and\\n (h)  all other fees and charges applied to the Card Account.\\n3.3  Balance transfers and amount transferred from other card accounts are \\nnot eligible for Qantas Points. American Express reserves the right to \\nchange this provision at any time and may offer Qantas Points on balance \\ntransfers as part of specific promotions and subject to any conditions it \\nthinks fit.\\n3.4  When the Basic Card Member or an Additional Card Member obtains \\na refund or reimbursement for items purchased on the Card or an \\nAdditional Card as applicable, a credit is posted to the Card Account in \\nthe amount of the refund or reimbursement. This credit will reduce the \\nAccrued Points to reflect the refund or reimbursement.\\n3.5   The Basic Card Member will accrue Bonus Points for every one \\nAustralian dollar charged and billed on the Card Account when the Basic \\nCard Member or an Additional Card Member makes a purchase with a \\nBonus Partner. Bonus Partners may change from time to time. Details \\nare available from American Express.\\n3.6   Spend on Additional Cards will accrue Points for the Basic Card Member.\\n3.7   Accrued Points are not the property of the Basic Card Member or an \\nAdditional Card Member and are not transferable to any other person \\nor entity or any other Card Account, whether by operation of law \\nor otherwise.\\n3.8  Accrued Points have no monetary value. \\n3.9  If any Card Account is not in good standing, the Basic Card Member’s \\nprivilege to earn Qantas Points may be cancelled or Accrued Points may \\nbe forfeited. American Express reserves the right to withdraw all Card \\nbenefits from the Basic Card Member and an Additional Card Member \\ndue to the Basic Card Member’s or an Additional Card Member’s failure \\nto adhere to the American Express Credit Card Conditions.\\n3.10   If a Basic Card Member cancels the Card Account, or if for any reason \\nAmerican Express cancels the Card Account, any Accrued Points will \\nbe forfeited.\\n3.11  Accrued Points will be automatically transferred to your Qantas Frequent \\nFlyer account on a monthly basis. The monthly Card Account statement \\nwill specify the number of Accrued Points accumulated during that \\nmonth and the number of Points transferred to your Qantas Frequent '"
      ]
     },
     "execution_count": 2,
     "metadata": {},
     "output_type": "execute_result"
    }
   ],
   "source": [
    "page = reader.pages[2]\n",
    "text = page.extract_text()\n",
    "text"
   ]
  },
  {
   "cell_type": "code",
   "execution_count": 3,
   "metadata": {},
   "outputs": [
    {
     "data": {
      "text/plain": [
       "'notified to you from time to time, for every one Australian dollar (AUD)  spent on goods and services, charged and billed on the Card Account.  Subject to these terms and conditions, Qantas Points are calculated on  each purchase of goods or services charged to your Card. Only whole  Qantas Points are credited. Accrued Points shall be rounded to the nearest  whole Qantas Point in accordance with the generally accepted principles in  respect of rounding rules. For details on the number of Qantas Points  awarded for each transaction type, please contact American Express using  the telephone number printed on the back of your Card. 3.2  Exemptions  No Qantas Points accrue in respect of:  (a)  charges prepaid prior to the first billing statement for that Card  Account following the Enrolment Date;  (b)  Cash advance and other cash services or cash equivalents;  (c)  American Express Travellers Cheque and gift cheque purchases;  (d) charges for dishonoured payments;  (e) interest charges;  (f) annual Card fees;  (g) late payment charges; and  (h)  all other fees and charges applied to the Card Account. 3.3  Balance transfers and amount transferred from other card accounts are  not eligible for Qantas Points. American Express reserves the right to  change this provision at any time and may offer Qantas Points on balance  transfers as part of specific promotions and subject to any conditions it  thinks fit. 3.4  When the Basic Card Member or an Additional Card Member obtains  a refund or reimbursement for items purchased on the Card or an  Additional Card as applicable, a credit is posted to the Card Account in  the amount of the refund or reimbursement. This credit will reduce the  Accrued Points to reflect the refund or reimbursement. 3.5   The Basic Card Member will accrue Bonus Points for every one  Australian dollar charged and billed on the Card Account when the Basic  Card Member or an Additional Card Member makes a purchase with a  Bonus Partner. Bonus Partners may change from time to time. Details  are available from American Express. 3.6   Spend on Additional Cards will accrue Points for the Basic Card Member. 3.7   Accrued Points are not the property of the Basic Card Member or an  Additional Card Member and are not transferable to any other person  or entity or any other Card Account, whether by operation of law  or otherwise. 3.8  Accrued Points have no monetary value.  3.9  If any Card Account is not in good standing, the Basic Card Member’s  privilege to earn Qantas Points may be cancelled or Accrued Points may  be forfeited. American Express reserves the right to withdraw all Card  benefits from the Basic Card Member and an Additional Card Member  due to the Basic Card Member’s or an Additional Card Member’s failure  to adhere to the American Express Credit Card Conditions. 3.10   If a Basic Card Member cancels the Card Account, or if for any reason  American Express cancels the Card Account, any Accrued Points will  be forfeited. 3.11  Accrued Points will be automatically transferred to your Qantas Frequent  Flyer account on a monthly basis. The monthly Card Account statement  will specify the number of Accrued Points accumulated during that  month and the number of Points transferred to your Qantas Frequent '"
      ]
     },
     "execution_count": 3,
     "metadata": {},
     "output_type": "execute_result"
    }
   ],
   "source": [
    "import re\n",
    "text = re.sub(\"\\n\",\" \", text)\n",
    "text"
   ]
  },
  {
   "cell_type": "code",
   "execution_count": 4,
   "metadata": {},
   "outputs": [
    {
     "data": {
      "text/plain": [
       "Document(page_content='This is paragraph 1.')"
      ]
     },
     "execution_count": 4,
     "metadata": {},
     "output_type": "execute_result"
    }
   ],
   "source": [
    "from langchain.docstore.document import Document\n",
    "example_text = \"This is paragraph 1.\"\n",
    "doc = Document(page_content=example_text)\n",
    "doc"
   ]
  },
  {
   "cell_type": "code",
   "execution_count": 5,
   "metadata": {},
   "outputs": [
    {
     "data": {
      "text/plain": [
       "Document(page_content='This is paragraph 1.', metadata={'source': 'internet', 'date': 'Friday'})"
      ]
     },
     "execution_count": 5,
     "metadata": {},
     "output_type": "execute_result"
    }
   ],
   "source": [
    "metadata = {\"source\": \"internet\", \"date\": \"Friday\"}\n",
    "doc = Document(page_content=example_text, metadata=metadata)\n",
    "doc"
   ]
  },
  {
   "cell_type": "code",
   "execution_count": 6,
   "metadata": {},
   "outputs": [
    {
     "data": {
      "text/plain": [
       "Document(page_content='This is paragraph 1.', metadata={'source': 'internet', 'date': 'Friday', 'page': 1})"
      ]
     },
     "execution_count": 6,
     "metadata": {},
     "output_type": "execute_result"
    }
   ],
   "source": [
    "# can also add metadata this way:\n",
    "doc.metadata[\"page\"]=1\n",
    "doc"
   ]
  },
  {
   "cell_type": "markdown",
   "metadata": {},
   "source": [
    "Change the text_to_docs function in pdf_chunker.py which was originally from this [repo.](https://github.com/avrabyt/RAG-Chatbot)"
   ]
  },
  {
   "cell_type": "code",
   "execution_count": 30,
   "metadata": {},
   "outputs": [
    {
     "data": {
      "text/plain": [
       "['Qantas  \\nAmerican Express Cards\\nQantas Points Terms & Conditions\\nEFFECTIVE:  15 AUGUST 2019\\nAmerican Express is the credit provider and credit licensee under the national consumer credit laws. \\nCredit provided by American Express Australia Limited (ABN 92 108 952 085)\\nAustralian Credit Licence No. 291313 \\n® Registered T rademark of American Express Company.',\n",
       " 'YOUR FIRST USE OF THE CARD OR CARD ACCOUNT WILL \\nINDICATE YOUR AGREEMENT TO THESE QANTAS POINTS \\nTERMS  AND CONDITIONS.\\n1. Definitions\\nAccrued Points – Qantas Points accrued as a result of transactions on the \\nCard and an Additional Card that have not been transferred to the Basic Card \\nMember’s Qantas Frequent Flyer account.\\nAdditional Card  – a Qantas American Express Card issued to another person \\nat the request of the Basic Card Member and on the Basic Card Member’s \\nCard Account and may previously have been referred to as a Supplementary \\nCard Member.\\nAdditional Card Member  – a holder of an Additional Card who is authorised \\nto transact on the Card Account. \\nAmerican Express  – American Express Australia Limited  \\n(ABN 92 108 952 085) Australian Credit Licence No. 291313.\\nAmerican Express Credit Card Conditions  – the terms and conditions \\nissued by American Express from time to time in relation to the use of a Card.\\nBasic Card Member  – the person in whose name a Card Account is opened \\nand who is responsible for all transactions on the Card Account.\\nBonus Partner  – merchants who enter into an agreement with \\nAmerican Express in relation to the provision of Bonus Points.\\nBonus Points  – the additional Qantas Points accrued in respect of a purchase \\nmade with a Bonus Partner with a Card or an Additional Card in addition to the \\nstandard Qantas Points accrued for that transaction.\\nCard  – means a Qantas American Express Card offered, issued and \\nadministered by American Express, but does not include Qantas \\nAmerican  Express business or corporate cards.\\nCard Account  – means the account associated with your credit Card.\\nEnrolment Date  – the date American Express opens the Card Account.\\nQantas  – Qantas Airways Limited (ABN 16 009 661 901).\\nQantas Frequent Flyer  – the frequent flyer loyalty program operated by or on \\nbehalf of Qantas.\\nQantas Points  – Qantas Frequent Flyer points.\\nyou  and your  – the Basic Card Member.\\nwe and our – American Express.\\n2. Eligibility\\n2.1  The Basic Card Member must be a member of Qantas Frequent Flyer \\nto earn and redeem Qantas Points. Basic Card Members who are not \\ncurrently members of Qantas Frequent Flyer must enrol in Qantas \\nFrequent Flyer if they wish to earn Qantas Points. A joining fee may apply. \\nMembership and the earning and redemption of Qantas Points are \\nsubject to the Qantas Frequent Flyer Terms and Conditions. Please refer \\nto qantas.com/terms or call the Qantas Frequent Flyer Service Centre \\non 13 11 31 for a copy.\\n2.2  The Basic Card Member must advise American Express of his or her \\nQantas Frequent Flyer membership number. If American Express has not \\nbeen notified of the Basic Card Member’s Qantas Frequent Flyer \\nmembership number, American Express is unable to transfer Qantas \\nPoints to your Qantas Frequent Flyer account.\\n3. Earning Qantas Points\\n3.1  Except for promotional offers and the categories listed in clause 3.2 below, \\nyou will accrue a designated number of Qantas Points (earn rate), as ',\n",
       " 'notified to you from time to time, for every one Australian dollar (AUD) \\nspent on goods and services, charged and billed on the Card Account. \\nSubject to these terms and conditions, Qantas Points are calculated on \\neach purchase of goods or services charged to your Card. Only whole \\nQantas Points are credited. Accrued Points shall be rounded to the nearest \\nwhole Qantas Point in accordance with the generally accepted principles in \\nrespect of rounding rules. For details on the number of Qantas Points \\nawarded for each transaction type, please contact American Express using \\nthe telephone number printed on the back of your Card.\\n3.2  Exemptions\\n No Qantas Points accrue in respect of:\\n (a)  charges prepaid prior to the first billing statement for that Card \\nAccount following the Enrolment Date;\\n (b)  Cash advance and other cash services or cash equivalents;\\n (c)  American Express Travellers Cheque and gift cheque purchases;\\n (d) charges for dishonoured payments;\\n (e) interest charges;\\n (f) annual Card fees;\\n (g) late payment charges; and\\n (h)  all other fees and charges applied to the Card Account.\\n3.3  Balance transfers and amount transferred from other card accounts are \\nnot eligible for Qantas Points. American Express reserves the right to \\nchange this provision at any time and may offer Qantas Points on balance \\ntransfers as part of specific promotions and subject to any conditions it \\nthinks fit.\\n3.4  When the Basic Card Member or an Additional Card Member obtains \\na refund or reimbursement for items purchased on the Card or an \\nAdditional Card as applicable, a credit is posted to the Card Account in \\nthe amount of the refund or reimbursement. This credit will reduce the \\nAccrued Points to reflect the refund or reimbursement.\\n3.5   The Basic Card Member will accrue Bonus Points for every one \\nAustralian dollar charged and billed on the Card Account when the Basic \\nCard Member or an Additional Card Member makes a purchase with a \\nBonus Partner. Bonus Partners may change from time to time. Details \\nare available from American Express.\\n3.6   Spend on Additional Cards will accrue Points for the Basic Card Member.\\n3.7   Accrued Points are not the property of the Basic Card Member or an \\nAdditional Card Member and are not transferable to any other person \\nor entity or any other Card Account, whether by operation of law \\nor otherwise.\\n3.8  Accrued Points have no monetary value. \\n3.9  If any Card Account is not in good standing, the Basic Card Member’s \\nprivilege to earn Qantas Points may be cancelled or Accrued Points may \\nbe forfeited. American Express reserves the right to withdraw all Card \\nbenefits from the Basic Card Member and an Additional Card Member \\ndue to the Basic Card Member’s or an Additional Card Member’s failure \\nto adhere to the American Express Credit Card Conditions.\\n3.10   If a Basic Card Member cancels the Card Account, or if for any reason \\nAmerican Express cancels the Card Account, any Accrued Points will \\nbe forfeited.\\n3.11  Accrued Points will be automatically transferred to your Qantas Frequent \\nFlyer account on a monthly basis. The monthly Card Account statement \\nwill specify the number of Accrued Points accumulated during that \\nmonth and the number of Points transferred to your Qantas Frequent ']"
      ]
     },
     "execution_count": 30,
     "metadata": {},
     "output_type": "execute_result"
    }
   ],
   "source": [
    "# example list of pages from the pdf\n",
    "list_of_pages = [reader.pages[0].extract_text(), reader.pages[1].extract_text(), reader.pages[2].extract_text()]\n",
    "list_of_pages\n"
   ]
  },
  {
   "cell_type": "code",
   "execution_count": 19,
   "metadata": {},
   "outputs": [
    {
     "data": {
      "text/plain": [
       "[Document(page_content='Qantas  \\nAmerican Express Cards\\nQantas Points Terms & Conditions\\nEFFECTIVE:  15 AUGUST 2019\\nAmerican Express is the credit provider and credit licensee under the national consumer credit laws. \\nCredit provided by American Express Australia Limited (ABN 92 108 952 085)\\nAustralian Credit Licence No. 291313 \\n® Registered T rademark of American Express Company.'),\n",
       " Document(page_content='YOUR FIRST USE OF THE CARD OR CARD ACCOUNT WILL \\nINDICATE YOUR AGREEMENT TO THESE QANTAS POINTS \\nTERMS  AND CONDITIONS.\\n1. Definitions\\nAccrued Points – Qantas Points accrued as a result of transactions on the \\nCard and an Additional Card that have not been transferred to the Basic Card \\nMember’s Qantas Frequent Flyer account.\\nAdditional Card  – a Qantas American Express Card issued to another person \\nat the request of the Basic Card Member and on the Basic Card Member’s \\nCard Account and may previously have been referred to as a Supplementary \\nCard Member.\\nAdditional Card Member  – a holder of an Additional Card who is authorised \\nto transact on the Card Account. \\nAmerican Express  – American Express Australia Limited  \\n(ABN 92 108 952 085) Australian Credit Licence No. 291313.\\nAmerican Express Credit Card Conditions  – the terms and conditions \\nissued by American Express from time to time in relation to the use of a Card.\\nBasic Card Member  – the person in whose name a Card Account is opened \\nand who is responsible for all transactions on the Card Account.\\nBonus Partner  – merchants who enter into an agreement with \\nAmerican Express in relation to the provision of Bonus Points.\\nBonus Points  – the additional Qantas Points accrued in respect of a purchase \\nmade with a Bonus Partner with a Card or an Additional Card in addition to the \\nstandard Qantas Points accrued for that transaction.\\nCard  – means a Qantas American Express Card offered, issued and \\nadministered by American Express, but does not include Qantas \\nAmerican  Express business or corporate cards.\\nCard Account  – means the account associated with your credit Card.\\nEnrolment Date  – the date American Express opens the Card Account.\\nQantas  – Qantas Airways Limited (ABN 16 009 661 901).\\nQantas Frequent Flyer  – the frequent flyer loyalty program operated by or on \\nbehalf of Qantas.\\nQantas Points  – Qantas Frequent Flyer points.\\nyou  and your  – the Basic Card Member.\\nwe and our – American Express.\\n2. Eligibility\\n2.1  The Basic Card Member must be a member of Qantas Frequent Flyer \\nto earn and redeem Qantas Points. Basic Card Members who are not \\ncurrently members of Qantas Frequent Flyer must enrol in Qantas \\nFrequent Flyer if they wish to earn Qantas Points. A joining fee may apply. \\nMembership and the earning and redemption of Qantas Points are \\nsubject to the Qantas Frequent Flyer Terms and Conditions. Please refer \\nto qantas.com/terms or call the Qantas Frequent Flyer Service Centre \\non 13 11 31 for a copy.\\n2.2  The Basic Card Member must advise American Express of his or her \\nQantas Frequent Flyer membership number. If American Express has not \\nbeen notified of the Basic Card Member’s Qantas Frequent Flyer \\nmembership number, American Express is unable to transfer Qantas \\nPoints to your Qantas Frequent Flyer account.\\n3. Earning Qantas Points\\n3.1  Except for promotional offers and the categories listed in clause 3.2 below, \\nyou will accrue a designated number of Qantas Points (earn rate), as '),\n",
       " Document(page_content='notified to you from time to time, for every one Australian dollar (AUD) \\nspent on goods and services, charged and billed on the Card Account. \\nSubject to these terms and conditions, Qantas Points are calculated on \\neach purchase of goods or services charged to your Card. Only whole \\nQantas Points are credited. Accrued Points shall be rounded to the nearest \\nwhole Qantas Point in accordance with the generally accepted principles in \\nrespect of rounding rules. For details on the number of Qantas Points \\nawarded for each transaction type, please contact American Express using \\nthe telephone number printed on the back of your Card.\\n3.2  Exemptions\\n No Qantas Points accrue in respect of:\\n (a)  charges prepaid prior to the first billing statement for that Card \\nAccount following the Enrolment Date;\\n (b)  Cash advance and other cash services or cash equivalents;\\n (c)  American Express Travellers Cheque and gift cheque purchases;\\n (d) charges for dishonoured payments;\\n (e) interest charges;\\n (f) annual Card fees;\\n (g) late payment charges; and\\n (h)  all other fees and charges applied to the Card Account.\\n3.3  Balance transfers and amount transferred from other card accounts are \\nnot eligible for Qantas Points. American Express reserves the right to \\nchange this provision at any time and may offer Qantas Points on balance \\ntransfers as part of specific promotions and subject to any conditions it \\nthinks fit.\\n3.4  When the Basic Card Member or an Additional Card Member obtains \\na refund or reimbursement for items purchased on the Card or an \\nAdditional Card as applicable, a credit is posted to the Card Account in \\nthe amount of the refund or reimbursement. This credit will reduce the \\nAccrued Points to reflect the refund or reimbursement.\\n3.5   The Basic Card Member will accrue Bonus Points for every one \\nAustralian dollar charged and billed on the Card Account when the Basic \\nCard Member or an Additional Card Member makes a purchase with a \\nBonus Partner. Bonus Partners may change from time to time. Details \\nare available from American Express.\\n3.6   Spend on Additional Cards will accrue Points for the Basic Card Member.\\n3.7   Accrued Points are not the property of the Basic Card Member or an \\nAdditional Card Member and are not transferable to any other person \\nor entity or any other Card Account, whether by operation of law \\nor otherwise.\\n3.8  Accrued Points have no monetary value. \\n3.9  If any Card Account is not in good standing, the Basic Card Member’s \\nprivilege to earn Qantas Points may be cancelled or Accrued Points may \\nbe forfeited. American Express reserves the right to withdraw all Card \\nbenefits from the Basic Card Member and an Additional Card Member \\ndue to the Basic Card Member’s or an Additional Card Member’s failure \\nto adhere to the American Express Credit Card Conditions.\\n3.10   If a Basic Card Member cancels the Card Account, or if for any reason \\nAmerican Express cancels the Card Account, any Accrued Points will \\nbe forfeited.\\n3.11  Accrued Points will be automatically transferred to your Qantas Frequent \\nFlyer account on a monthly basis. The monthly Card Account statement \\nwill specify the number of Accrued Points accumulated during that \\nmonth and the number of Points transferred to your Qantas Frequent ')]"
      ]
     },
     "execution_count": 19,
     "metadata": {},
     "output_type": "execute_result"
    }
   ],
   "source": [
    "page_docs = [Document(page_content=page) for page in list_of_pages]\n",
    "page_docs"
   ]
  },
  {
   "cell_type": "code",
   "execution_count": 20,
   "metadata": {},
   "outputs": [],
   "source": [
    "# Assign a page number to the metadata of each document.\n",
    "for i, doc in enumerate(page_docs):\n",
    "    doc.metadata[\"page\"] = 1+i #as enumerate starts at 0"
   ]
  },
  {
   "cell_type": "code",
   "execution_count": 10,
   "metadata": {},
   "outputs": [
    {
     "data": {
      "text/plain": [
       "[Document(page_content='Qantas  \\nAmerican Express Cards\\nQantas Points Terms & Conditions\\nEFFECTIVE:  15 AUGUST 2019\\nAmerican Express is the credit provider and credit licensee under the national consumer credit laws. \\nCredit provided by American Express Australia Limited (ABN 92 108 952 085)\\nAustralian Credit Licence No. 291313 \\n® Registered T rademark of American Express Company.', metadata={'page': 1}),\n",
       " Document(page_content='YOUR FIRST USE OF THE CARD OR CARD ACCOUNT WILL \\nINDICATE YOUR AGREEMENT TO THESE QANTAS POINTS \\nTERMS  AND CONDITIONS.\\n1. Definitions\\nAccrued Points – Qantas Points accrued as a result of transactions on the \\nCard and an Additional Card that have not been transferred to the Basic Card \\nMember’s Qantas Frequent Flyer account.\\nAdditional Card  – a Qantas American Express Card issued to another person \\nat the request of the Basic Card Member and on the Basic Card Member’s \\nCard Account and may previously have been referred to as a Supplementary \\nCard Member.\\nAdditional Card Member  – a holder of an Additional Card who is authorised \\nto transact on the Card Account. \\nAmerican Express  – American Express Australia Limited  \\n(ABN 92 108 952 085) Australian Credit Licence No. 291313.\\nAmerican Express Credit Card Conditions  – the terms and conditions \\nissued by American Express from time to time in relation to the use of a Card.\\nBasic Card Member  – the person in whose name a Card Account is opened \\nand who is responsible for all transactions on the Card Account.\\nBonus Partner  – merchants who enter into an agreement with \\nAmerican Express in relation to the provision of Bonus Points.\\nBonus Points  – the additional Qantas Points accrued in respect of a purchase \\nmade with a Bonus Partner with a Card or an Additional Card in addition to the \\nstandard Qantas Points accrued for that transaction.\\nCard  – means a Qantas American Express Card offered, issued and \\nadministered by American Express, but does not include Qantas \\nAmerican  Express business or corporate cards.\\nCard Account  – means the account associated with your credit Card.\\nEnrolment Date  – the date American Express opens the Card Account.\\nQantas  – Qantas Airways Limited (ABN 16 009 661 901).\\nQantas Frequent Flyer  – the frequent flyer loyalty program operated by or on \\nbehalf of Qantas.\\nQantas Points  – Qantas Frequent Flyer points.\\nyou  and your  – the Basic Card Member.\\nwe and our – American Express.\\n2. Eligibility\\n2.1  The Basic Card Member must be a member of Qantas Frequent Flyer \\nto earn and redeem Qantas Points. Basic Card Members who are not \\ncurrently members of Qantas Frequent Flyer must enrol in Qantas \\nFrequent Flyer if they wish to earn Qantas Points. A joining fee may apply. \\nMembership and the earning and redemption of Qantas Points are \\nsubject to the Qantas Frequent Flyer Terms and Conditions. Please refer \\nto qantas.com/terms or call the Qantas Frequent Flyer Service Centre \\non 13 11 31 for a copy.\\n2.2  The Basic Card Member must advise American Express of his or her \\nQantas Frequent Flyer membership number. If American Express has not \\nbeen notified of the Basic Card Member’s Qantas Frequent Flyer \\nmembership number, American Express is unable to transfer Qantas \\nPoints to your Qantas Frequent Flyer account.\\n3. Earning Qantas Points\\n3.1  Except for promotional offers and the categories listed in clause 3.2 below, \\nyou will accrue a designated number of Qantas Points (earn rate), as ', metadata={'page': 2}),\n",
       " Document(page_content='notified to you from time to time, for every one Australian dollar (AUD) \\nspent on goods and services, charged and billed on the Card Account. \\nSubject to these terms and conditions, Qantas Points are calculated on \\neach purchase of goods or services charged to your Card. Only whole \\nQantas Points are credited. Accrued Points shall be rounded to the nearest \\nwhole Qantas Point in accordance with the generally accepted principles in \\nrespect of rounding rules. For details on the number of Qantas Points \\nawarded for each transaction type, please contact American Express using \\nthe telephone number printed on the back of your Card.\\n3.2  Exemptions\\n No Qantas Points accrue in respect of:\\n (a)  charges prepaid prior to the first billing statement for that Card \\nAccount following the Enrolment Date;\\n (b)  Cash advance and other cash services or cash equivalents;\\n (c)  American Express Travellers Cheque and gift cheque purchases;\\n (d) charges for dishonoured payments;\\n (e) interest charges;\\n (f) annual Card fees;\\n (g) late payment charges; and\\n (h)  all other fees and charges applied to the Card Account.\\n3.3  Balance transfers and amount transferred from other card accounts are \\nnot eligible for Qantas Points. American Express reserves the right to \\nchange this provision at any time and may offer Qantas Points on balance \\ntransfers as part of specific promotions and subject to any conditions it \\nthinks fit.\\n3.4  When the Basic Card Member or an Additional Card Member obtains \\na refund or reimbursement for items purchased on the Card or an \\nAdditional Card as applicable, a credit is posted to the Card Account in \\nthe amount of the refund or reimbursement. This credit will reduce the \\nAccrued Points to reflect the refund or reimbursement.\\n3.5   The Basic Card Member will accrue Bonus Points for every one \\nAustralian dollar charged and billed on the Card Account when the Basic \\nCard Member or an Additional Card Member makes a purchase with a \\nBonus Partner. Bonus Partners may change from time to time. Details \\nare available from American Express.\\n3.6   Spend on Additional Cards will accrue Points for the Basic Card Member.\\n3.7   Accrued Points are not the property of the Basic Card Member or an \\nAdditional Card Member and are not transferable to any other person \\nor entity or any other Card Account, whether by operation of law \\nor otherwise.\\n3.8  Accrued Points have no monetary value. \\n3.9  If any Card Account is not in good standing, the Basic Card Member’s \\nprivilege to earn Qantas Points may be cancelled or Accrued Points may \\nbe forfeited. American Express reserves the right to withdraw all Card \\nbenefits from the Basic Card Member and an Additional Card Member \\ndue to the Basic Card Member’s or an Additional Card Member’s failure \\nto adhere to the American Express Credit Card Conditions.\\n3.10   If a Basic Card Member cancels the Card Account, or if for any reason \\nAmerican Express cancels the Card Account, any Accrued Points will \\nbe forfeited.\\n3.11  Accrued Points will be automatically transferred to your Qantas Frequent \\nFlyer account on a monthly basis. The monthly Card Account statement \\nwill specify the number of Accrued Points accumulated during that \\nmonth and the number of Points transferred to your Qantas Frequent ', metadata={'page': 3})]"
      ]
     },
     "execution_count": 10,
     "metadata": {},
     "output_type": "execute_result"
    }
   ],
   "source": [
    "page_docs #now has page number in metadata"
   ]
  },
  {
   "cell_type": "code",
   "execution_count": 28,
   "metadata": {},
   "outputs": [
    {
     "name": "stdout",
     "output_type": "stream",
     "text": [
      "page_content='Qantas  \\nAmerican Express Cards\\nQantas Points Terms & Conditions\\nEFFECTIVE:  15 AUGUST 2019\\nAmerican Express is the credit provider and credit licensee under the national consumer credit laws. \\nCredit provided by American Express Australia Limited (ABN 92 108 952 085)\\nAustralian Credit Licence No. 291313 \\n® Registered T rademark of American Express Company.' metadata={'page': 1, 'chunk': 1, 'source': 'page 1 - section 1', 'filename': 'qantas_points_tncs'}\n",
      "page_content='YOUR FIRST USE OF THE CARD OR CARD ACCOUNT WILL \\nINDICATE YOUR AGREEMENT TO THESE QANTAS POINTS \\nTERMS  AND CONDITIONS.\\n1. Definitions\\nAccrued Points – Qantas Points accrued as a result of transactions on the \\nCard and an Additional Card that have not been transferred to the Basic Card \\nMember’s Qantas Frequent Flyer account.\\nAdditional Card  – a Qantas American Express Card issued to another person \\nat the request of the Basic Card Member and on the Basic Card Member’s \\nCard Account and may previously have been referred to as a Supplementary \\nCard Member.\\nAdditional Card Member  – a holder of an Additional Card who is authorised \\nto transact on the Card Account. \\nAmerican Express  – American Express Australia Limited  \\n(ABN 92 108 952 085) Australian Credit Licence No. 291313.\\nAmerican Express Credit Card Conditions  – the terms and conditions \\nissued by American Express from time to time in relation to the use of a Card.\\nBasic Card Member  – the person in whose name a Card Account is opened \\nand who is responsible for all transactions on the Card Account.\\nBonus Partner  – merchants who enter into an agreement with \\nAmerican Express in relation to the provision of Bonus Points.\\nBonus Points  – the additional Qantas Points accrued in respect of a purchase \\nmade with a Bonus Partner with a Card or an Additional Card in addition to the \\nstandard Qantas Points accrued for that transaction.\\nCard  – means a Qantas American Express Card offered, issued and \\nadministered by American Express, but does not include Qantas \\nAmerican  Express business or corporate cards.\\nCard Account  – means the account associated with your credit Card.\\nEnrolment Date  – the date American Express opens the Card Account.\\nQantas  – Qantas Airways Limited (ABN 16 009 661 901).\\nQantas Frequent Flyer  – the frequent flyer loyalty program operated by or on \\nbehalf of Qantas.\\nQantas Points  – Qantas Frequent Flyer points.\\nyou  and your  – the Basic Card Member.\\nwe and our – American Express.' metadata={'page': 2, 'chunk': 1, 'source': 'page 2 - section 1', 'filename': 'qantas_points_tncs'}\n",
      "page_content='2. Eligibility\\n2.1  The Basic Card Member must be a member of Qantas Frequent Flyer \\nto earn and redeem Qantas Points. Basic Card Members who are not \\ncurrently members of Qantas Frequent Flyer must enrol in Qantas \\nFrequent Flyer if they wish to earn Qantas Points. A joining fee may apply. \\nMembership and the earning and redemption of Qantas Points are \\nsubject to the Qantas Frequent Flyer Terms and Conditions. Please refer \\nto qantas.com/terms or call the Qantas Frequent Flyer Service Centre \\non 13 11 31 for a copy.\\n2.2  The Basic Card Member must advise American Express of his or her \\nQantas Frequent Flyer membership number. If American Express has not \\nbeen notified of the Basic Card Member’s Qantas Frequent Flyer \\nmembership number, American Express is unable to transfer Qantas \\nPoints to your Qantas Frequent Flyer account.\\n3. Earning Qantas Points\\n3.1  Except for promotional offers and the categories listed in clause 3.2 below, \\nyou will accrue a designated number of Qantas Points (earn rate), as' metadata={'page': 2, 'chunk': 2, 'source': 'page 2 - section 2', 'filename': 'qantas_points_tncs'}\n",
      "page_content='notified to you from time to time, for every one Australian dollar (AUD) \\nspent on goods and services, charged and billed on the Card Account. \\nSubject to these terms and conditions, Qantas Points are calculated on \\neach purchase of goods or services charged to your Card. Only whole \\nQantas Points are credited. Accrued Points shall be rounded to the nearest \\nwhole Qantas Point in accordance with the generally accepted principles in \\nrespect of rounding rules. For details on the number of Qantas Points \\nawarded for each transaction type, please contact American Express using \\nthe telephone number printed on the back of your Card.\\n3.2  Exemptions\\n No Qantas Points accrue in respect of:\\n (a)  charges prepaid prior to the first billing statement for that Card \\nAccount following the Enrolment Date;\\n (b)  Cash advance and other cash services or cash equivalents;\\n (c)  American Express Travellers Cheque and gift cheque purchases;\\n (d) charges for dishonoured payments;\\n (e) interest charges;\\n (f) annual Card fees;\\n (g) late payment charges; and\\n (h)  all other fees and charges applied to the Card Account.\\n3.3  Balance transfers and amount transferred from other card accounts are \\nnot eligible for Qantas Points. American Express reserves the right to \\nchange this provision at any time and may offer Qantas Points on balance \\ntransfers as part of specific promotions and subject to any conditions it \\nthinks fit.\\n3.4  When the Basic Card Member or an Additional Card Member obtains \\na refund or reimbursement for items purchased on the Card or an \\nAdditional Card as applicable, a credit is posted to the Card Account in \\nthe amount of the refund or reimbursement. This credit will reduce the \\nAccrued Points to reflect the refund or reimbursement.\\n3.5   The Basic Card Member will accrue Bonus Points for every one \\nAustralian dollar charged and billed on the Card Account when the Basic \\nCard Member or an Additional Card Member makes a purchase with a' metadata={'page': 3, 'chunk': 1, 'source': 'page 3 - section 1', 'filename': 'qantas_points_tncs'}\n",
      "page_content='Bonus Partner. Bonus Partners may change from time to time. Details \\nare available from American Express.\\n3.6   Spend on Additional Cards will accrue Points for the Basic Card Member.\\n3.7   Accrued Points are not the property of the Basic Card Member or an \\nAdditional Card Member and are not transferable to any other person \\nor entity or any other Card Account, whether by operation of law \\nor otherwise.\\n3.8  Accrued Points have no monetary value. \\n3.9  If any Card Account is not in good standing, the Basic Card Member’s \\nprivilege to earn Qantas Points may be cancelled or Accrued Points may \\nbe forfeited. American Express reserves the right to withdraw all Card \\nbenefits from the Basic Card Member and an Additional Card Member \\ndue to the Basic Card Member’s or an Additional Card Member’s failure \\nto adhere to the American Express Credit Card Conditions.\\n3.10   If a Basic Card Member cancels the Card Account, or if for any reason \\nAmerican Express cancels the Card Account, any Accrued Points will \\nbe forfeited.\\n3.11  Accrued Points will be automatically transferred to your Qantas Frequent \\nFlyer account on a monthly basis. The monthly Card Account statement \\nwill specify the number of Accrued Points accumulated during that \\nmonth and the number of Points transferred to your Qantas Frequent' metadata={'page': 3, 'chunk': 2, 'source': 'page 3 - section 2', 'filename': 'qantas_points_tncs'}\n"
     ]
    }
   ],
   "source": [
    "from langchain.text_splitter import RecursiveCharacterTextSplitter\n",
    "\n",
    "for doc in page_docs:\n",
    "    #split the pages up by list of characters \n",
    "    text_splitter = RecursiveCharacterTextSplitter(\n",
    "            chunk_size=2000, #chunk size measured by number of characters original 4000 but pages don't even go that long\n",
    "            separators=[\"\\n\\n\", \"\\n\", \".\", \"!\", \"?\", \",\", \" \", \"\"],\n",
    "            chunk_overlap=0,\n",
    "        )\n",
    "    \n",
    "    # Split the dcument pages into chunks\n",
    "    chunks = text_splitter.split_text(doc.page_content)\n",
    "    # print(chunks)\n",
    "\n",
    "    # Convert each chunk into a new document, storing its chunk number, page number, and source file name in its metadata.\n",
    "    for i, chunk in enumerate(chunks):\n",
    "        #print(doc) #this is the previous doc object pre chunk and only with page metadata\n",
    "        doc = Document(page_content=chunk, metadata={\"page\": doc.metadata[\"page\"], \"chunk\": i+1})\n",
    "        doc.metadata[\"source\"] = f\"page {doc.metadata['page']} - section {doc.metadata['chunk']}\"\n",
    "        doc.metadata[\"filename\"] = \"qantas_points_tncs\"\n",
    "        print(doc)"
   ]
  },
  {
   "cell_type": "markdown",
   "metadata": {},
   "source": [
    "# Code with chunking\n",
    "\n",
    "This is the code with chunking but I removed it since all my documents aren't that lengthy. So instead use just page numbers and no need for chunks"
   ]
  },
  {
   "cell_type": "code",
   "execution_count": 35,
   "metadata": {},
   "outputs": [],
   "source": [
    "from typing import List\n",
    "from langchain.text_splitter import RecursiveCharacterTextSplitter\n",
    "\n",
    "def text_to_docs(text: List[str], filename: str) -> List[Document]:\n",
    "    \"\"\"\n",
    "\n",
    "    Note: the text variable is a list of cleaned text where each element is a page from a pdf\n",
    "\n",
    "    This function is used to:\n",
    "        - Take a list of text strings & file name\n",
    "        - Processes the text to create a list of chunked \"Document\" objects\n",
    "        - These objects each represent a smaller portion of the original text with associated metadata\n",
    "    \n",
    "    \"\"\"\n",
    "    # Ensure the input text is a list. If it's a string, convert it to a list.\n",
    "    if isinstance(text, str):\n",
    "        text = [text]\n",
    "    \n",
    "    # Convert each text (from a page) to a Langchain Document object\n",
    "    page_docs = [Document(page_content=page) for page in text]\n",
    "    \n",
    "    # Assign a page number to the metadata of each document.\n",
    "    for i, doc in enumerate(page_docs):\n",
    "        doc.metadata[\"page\"] = 1+i #as enumerate starts at 0\n",
    "\n",
    "    doc_chunks = []\n",
    "    \n",
    "    # Split each page's text into smaller chunks and store them as separate documents.\n",
    "    for doc in page_docs:\n",
    "        # Initialize the text splitter with specific chunk sizes and delimiters.\n",
    "        text_splitter = RecursiveCharacterTextSplitter(\n",
    "            chunk_size=4000, \n",
    "            separators=[\"\\n\\n\", \"\\n\", \".\", \"!\", \"?\", \",\", \" \", \"\"],\n",
    "            chunk_overlap=0,\n",
    "        )\n",
    "        \n",
    "        # Split the dcument pages into chunks\n",
    "        chunks = text_splitter.split_text(doc.page_content)\n",
    "        # print(chunks)\n",
    "\n",
    "        # Convert each chunk into a new document, storing its chunk number, page number, and source file name in its metadata.\n",
    "        for i, chunk in enumerate(chunks):\n",
    "            doc = Document(\n",
    "                page_content=chunk, \n",
    "                metadata={\"page\": doc.metadata[\"page\"], #this is the page metadata from previous doc object before it was chunked\n",
    "                          \"chunk\": i+1}\n",
    "                          )\n",
    "            doc.metadata[\"source\"] = f\"page {doc.metadata['page']} - section {doc.metadata['chunk']}\"\n",
    "            doc.metadata[\"filename\"] = filename\n",
    "            doc_chunks.append(doc)\n",
    "    \n",
    "    # Return the list of chunked documents.\n",
    "    return doc_chunks"
   ]
  }
 ],
 "metadata": {
  "kernelspec": {
   "display_name": ".venv",
   "language": "python",
   "name": "python3"
  },
  "language_info": {
   "codemirror_mode": {
    "name": "ipython",
    "version": 3
   },
   "file_extension": ".py",
   "mimetype": "text/x-python",
   "name": "python",
   "nbconvert_exporter": "python",
   "pygments_lexer": "ipython3",
   "version": "3.11.0"
  }
 },
 "nbformat": 4,
 "nbformat_minor": 2
}
