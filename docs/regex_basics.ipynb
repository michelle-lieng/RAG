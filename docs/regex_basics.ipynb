{
 "cells": [
  {
   "cell_type": "markdown",
   "metadata": {},
   "source": [
    "## Experimenting with Regex\n",
    "\n",
    "Date: 8/2/24\n",
    "\n",
    "Trying to master the basics of Regex.\n",
    "\n",
    "Links:\n",
    "* https://www.w3schools.com/python/python_regex.asp\n",
    "* https://github.com/ziishaned/learn-regex?tab=readme-ov-file\n"
   ]
  },
  {
   "cell_type": "code",
   "execution_count": 1,
   "metadata": {},
   "outputs": [
    {
     "name": "stdout",
     "output_type": "stream",
     "text": [
      "<re.Match object; span=(0, 17), match='The rain in Spain'>\n"
     ]
    }
   ],
   "source": [
    "import re\n",
    "text = \"The rain in Spain\"\n",
    "x = re.search(\"^The.*Spain$\", text)\n",
    "print(x)\n",
    "# search will return match if true"
   ]
  },
  {
   "cell_type": "code",
   "execution_count": 2,
   "metadata": {},
   "outputs": [
    {
     "data": {
      "text/plain": [
       "'AMERICAN EXPRESS CREDIT CARD INSURANCE9The following examples are provided to illustrate how Y our cover may be affected by changes to Y our Card.\\nExample A – No American Express Card Account in place at the\\ndate of claim EventExample B – Different American Express card in place at the\\ndate of claim Event\\nJoan holds an American Express Card Account that has travel insurance \\ncover and makes a Qualifying T ravel Purchase for a T rip that she intends to \\ntake later in the year.\\nBefore she starts her T rip, Joan decides to cancel her American Express \\nCard Account. Upon cancelling her American Express Card Account, Joan \\ndoes not apply for another American Express card.\\nSubsequently, Joan travels and unfortunately her luggage is lost in transit to \\nher scheduled destination.\\nJoan does not have any entitlement to make a claim under the Policy for \\nthe lost luggage as Joan had cancelled the American Express Card Account, \\nwhich means Joan did not hold a valid American Express Card Account at \\nthe date of the claim Event and therefore no longer has access to the travel \\ninsurance cover.Tim makes a Qualifying T ravel Purchase for a T rip using his American Express \\nCard Account that has travel insurance cover.\\nPrior to travelling, Tim arranges with American Express to downgrade his \\ncard to another American Express card with a lower fee that has less travel \\ninsurance benefits.\\nOn the T rip, Tim suffers an Injury. The previous American Express Card \\nAccount which Tim held included Medical Emergency Expenses cover, but \\nthe new card held by Tim at the date of the claim Event does not include \\nMedical Emergency Expenses cover.\\nTim cannot therefore make a claim for Medical Emergency Expenses as the \\npolicy in-force at the date of the claim Event does not include this type of \\ncover.\\nFor medical and travel emergencies, please contact Chubb Assistance on +61 2 8907 5666.\\nFor claims and general enquiries about this Policy, please contact Chubb:\\nAddress:                              Grosvenor Place, Level 38, 225 George Street, SYDNEY NSW 2000 Australia\\nPostal Address:                 GPO Box 4907 , SYDNEY NSW 2001\\nT elephone:                          1800 236 023\\nOverseas T elephone:       +61 2 9335 3492\\nEmail:                                   CardmemberServices.ANZ@Chubb.com\\nNot an emergency?\\nMaking a claim is quick and easy. Y ou can submit Y our claim online by visiting the Chubb Claims Centre for American Express:\\nwww.americanexpress.com/australia/claims\\nCoverage Summary\\nIMPORTANT\\n• The following table is a summary of cover only, it is not an exhaustive list of all limits, terms, conditions or exclusions in this Policy. It is intended to \\nbe a quick reference tool to help Y ou understand the main benefits and some exclusions that apply.\\n• Y ou should always read the full Policy for comprehensive details.'"
      ]
     },
     "execution_count": 2,
     "metadata": {},
     "output_type": "execute_result"
    }
   ],
   "source": [
    "from pypdf import PdfReader\n",
    "pdf = PdfReader(r\"C:\\Users\\Michelle\\Data_Science_Code\\RAG-chatbot\\data\\insurance_tncs.pdf\")\n",
    "page10 = pdf.pages[10].extract_text()\n",
    "page10"
   ]
  },
  {
   "cell_type": "code",
   "execution_count": 3,
   "metadata": {},
   "outputs": [
    {
     "name": "stdout",
     "output_type": "stream",
     "text": [
      "AMERICAN EXPRESS CREDIT CARD INSURANCE9The following examples are provided to illustrate how Y our cover may be affected by changes to Y our Card.\n",
      "Example A – No American Express Card Account in place at the\n",
      "date of claim EventExample B – Different American Express card in place at the\n",
      "date of claim Event\n",
      "Joan holds an American Express Card Account that has travel insurance \n",
      "cover and makes a Qualifying T ravel Purchase for a T rip that she intends to \n",
      "take later in the year.\n",
      "Before she starts her T rip, Joan decides to cancel her American Express \n",
      "Card Account. Upon cancelling her American Express Card Account, Joan \n",
      "does not apply for another American Express card.\n",
      "Subsequently, Joan travels and unfortunately her luggage is lost in transit to \n",
      "her scheduled destination.\n",
      "Joan does not have any entitlement to make a claim under the Policy for \n",
      "the lost luggage as Joan had cancelled the American Express Card Account, \n",
      "which means Joan did not hold a valid American Express Card Account at \n",
      "the date of the claim Event and therefore no longer has access to the travel \n",
      "insurance cover.Tim makes a Qualifying T ravel Purchase for a T rip using his American Express \n",
      "Card Account that has travel insurance cover.\n",
      "Prior to travelling, Tim arranges with American Express to downgrade his \n",
      "card to another American Express card with a lower fee that has less travel \n",
      "insurance benefits.\n",
      "On the T rip, Tim suffers an Injury. The previous American Express Card \n",
      "Account which Tim held included Medical Emergency Expenses cover, but \n",
      "the new card held by Tim at the date of the claim Event does not include \n",
      "Medical Emergency Expenses cover.\n",
      "Tim cannot therefore make a claim for Medical Emergency Expenses as the \n",
      "policy in-force at the date of the claim Event does not include this type of \n",
      "cover.\n",
      "For medical and travel emergencies, please contact Chubb Assistance on +61 2 8907 5666.\n",
      "For claims and general enquiries about this Policy, please contact Chubb:\n",
      "Address:                              Grosvenor Place, Level 38, 225 George Street, SYDNEY NSW 2000 Australia\n",
      "Postal Address:                 GPO Box 4907 , SYDNEY NSW 2001\n",
      "T elephone:                          1800 236 023\n",
      "Overseas T elephone:       +61 2 9335 3492\n",
      "Email:                                   CardmemberServices.ANZ@Chubb.com\n",
      "Not an emergency?\n",
      "Making a claim is quick and easy. Y ou can submit Y our claim online by visiting the Chubb Claims Centre for American Express:\n",
      "www.americanexpress.com/australia/claims\n",
      "Coverage Summary\n",
      "IMPORTANT\n",
      "• The following table is a summary of cover only, it is not an exhaustive list of all limits, terms, conditions or exclusions in this Policy. It is intended to \n",
      "be a quick reference tool to help Y ou understand the main benefits and some exclusions that apply.\n",
      "• Y ou should always read the full Policy for comprehensive details.\n"
     ]
    }
   ],
   "source": [
    "print(page10)"
   ]
  },
  {
   "cell_type": "markdown",
   "metadata": {},
   "source": [
    "I notice for this document that there are often random spaces after Y or T but not always. There are also alot of new lines but none that are flanked by spaces on both sides. Sometimes the \"\\n\" need to be replaced be a space and sometimes not so I will replace with a space because that does less damage to the semantic meaning of the text.\n",
    "\n",
    "My text requires different processing from [this github repo project.](https://github.com/avrabyt/RAG-Chatbot)"
   ]
  },
  {
   "cell_type": "code",
   "execution_count": 39,
   "metadata": {},
   "outputs": [
    {
     "name": "stdout",
     "output_type": "stream",
     "text": [
      "AMERICAN EXPRESS CREDIT CARD INSURANCE9The following examples are provided to illustrate how Your cover may be affected by changes to Your Card. Example A – No American Express Card Account in place at the date of claim EventExample B – Different American Express card in place at the date of claim Event Joan holds an American Express Card Account that has travel insurance  cover and makes a Qualifying Travel Purchase for a Trip that she intends to  take later in the year. Before she starts her Trip, Joan decides to cancel her American Express  Card Account. Upon cancelling her American Express Card Account, Joan  does not apply for another American Express card. Subsequently, Joan travels and unfortunately her luggage is lost in transit to  her scheduled destination. Joan does not have any entitlement to make a claim under the Policy for  the lost luggage as Joan had cancelled the American Express Card Account,  which means Joan did not hold a valid American Express Card Account at  the date of the claim Event and therefore no longer has access to the travel  insurance cover.Tim makes a Qualifying Travel Purchase for a Trip using his American Express  Card Account that has travel insurance cover. Prior to travelling, Tim arranges with American Express to downgrade his  card to another American Express card with a lower fee that has less travel  insurance benefits. On the Trip, Tim suffers an Injury. The previous American Express Card  Account which Tim held included Medical Emergency Expenses cover, but  the new card held by Tim at the date of the claim Event does not include  Medical Emergency Expenses cover. Tim cannot therefore make a claim for Medical Emergency Expenses as the  policy in-force at the date of the claim Event does not include this type of  cover. For medical and travel emergencies, please contact Chubb Assistance on +61 2 8907 5666. For claims and general enquiries about this Policy, please contact Chubb: Address:                              Grosvenor Place, Level 38, 225 George Street, SYDNEY NSW 2000 Australia Postal Address:                 GPO Box 4907 , SYDNEY NSW 2001 Telephone:                          1800 236 023 Overseas Telephone:       +61 2 9335 3492 Email:                                   CardmemberServices.ANZ@Chubb.com Not an emergency? Making a claim is quick and easy. You can submit Your claim online by visiting the Chubb Claims Centre for American Express: www.americanexpress.com/australia/claims Coverage Summary IMPORTANT • The following table is a summary of cover only, it is not an exhaustive list of all limits, terms, conditions or exclusions in this Policy. It is intended to  be a quick reference tool to help You understand the main benefits and some exclusions that apply. • You should always read the full Policy for comprehensive details.\n"
     ]
    }
   ],
   "source": [
    "text = page10\n",
    "\n",
    "# re.sub is used to find and then replace certain parts of the text to clean it up\n",
    "\n",
    "# replace single newlines with spaces.\n",
    "text = re.sub(r\"\\n\", \" \",text)\n",
    "\n",
    "# for the insurance terms and conditions document - lots of cases of e.g. \"Y our\", \"T rip\", \"T ravel\"\n",
    "# if text has a \" T \" replace with \" T\" or \" Y \" replace with \" Y\" (basically remove space after)\n",
    "# change shouldn't affect other pdfs since T and Y are not words\n",
    "\n",
    "text = re.sub(r\" T \", r\" T\", text)\n",
    "text = re.sub(r\" Y \", r\" Y\", text)\n",
    "\n",
    "print(text)"
   ]
  },
  {
   "cell_type": "markdown",
   "metadata": {},
   "source": [
    "Checking formatting of other documents:"
   ]
  },
  {
   "cell_type": "code",
   "execution_count": 6,
   "metadata": {},
   "outputs": [
    {
     "data": {
      "text/plain": [
       "'Key Facts About This Credit Card \\nCredit provided by American Express Australia Limited (ABN 92 108 952 085). Australian Credit Licence No. 291313. ®Registered Trademark of American Express Company. \\nCorrect as at 3 May 2023 This information sheet is an Australian Government requirement \\nunder the National Consumer Credit Protection Act 2009.  \\nDESCRIPTION OF CREDIT CARD  \\nProduct name  The Qantas American Express \\nDiscovery  Card  The Qantas American Express \\nPremium  Card  The Qantas American Express \\nUltimate  Card  \\nMinimum credit limit  $2,000  $2,000  $3,000  \\nMinimum repayments  2.5% or $30 , whichever  is greater  \\nInterest on purchases  23.99% p.a.\\nInterest -free period  Up to 44  days  \\nInterest on cash advances  Not Offered  \\nBalance transfer interest rate  Not Offered\\nAnnual fee1 $0 $249 $450 \\nLate payment fee  $30 \\n1 Promotional offers may apply.\\nThere may be circumstances in which you have to pay other fees. A full list of current fees applicable to this Credit Card  can be obtained from americanexpress.com.au/fees  \\nFor more information on choosing and using Credit Card s visit the ASIC consumer website at www.moneysmart.gov.au  \\nThe terms on which this Credit Card  is offered can change over time. You can check if any changes have been made by visiting us americanexpress.com.au/kfscontact   '"
      ]
     },
     "execution_count": 6,
     "metadata": {},
     "output_type": "execute_result"
    }
   ],
   "source": [
    "pdf1 = PdfReader(r\"C:\\Users\\Michelle\\Data_Science_Code\\RAG-chatbot\\data\\key_facts.pdf\")\n",
    "pdf1_page0 = pdf1.pages[0].extract_text()\n",
    "pdf1_page0"
   ]
  },
  {
   "cell_type": "code",
   "execution_count": 7,
   "metadata": {},
   "outputs": [
    {
     "data": {
      "text/plain": [
       "'- 7 -Fees you  \\nagree to payThe fees that apply to your Account are set out \\nand described in the Financial Table. You agree \\nto pay these fees and you authorise us to \\ncharge them to your Account when they are \\ndue. Except as noted in this Agreement, all \\nfees are non-refundable.\\nWe may change the fees, including changing \\nthe way they are calculated, when they are \\npayable or by imposing new fees.\\nWe will provide notice of any change as set out \\nin this Agreement. Please see the section titled \\n‘Making changes to this Agreement’.\\nSending you \\nstatements \\nand other \\ncommunica -\\ntionsWe will contact you from time to time to \\nmanage and administer your Account and the \\nbenefits and services on it. We may contact \\nyou in a variety of ways depending upon which \\ncontact details you have provided to us (for \\nexample, we may send a text to your mobile \\nphone number or an email to your email \\naddress). We may also contact you online \\nthrough our online sites and services (for \\nexample, within your profile on our website or \\none of our mobile applications).\\nWe will provide you with or make statements  \\nof account available to you normally once \\nevery month. We will either send them to you  \\nin the post or give you access to them online \\nbased on your choice. You can change your \\nchoice at any time, unless your Account only \\nallows online statements. If you choose or are \\nrequired to access online statements, we will \\nsend you an email with a link to your online \\nstatement when your statement is available.\\nIf there hasn’t been recent Account activity,  \\nif your Account is seriously overdue or if the \\nbalance is less than $10 or in credit, we may \\nnot produce a statement.\\nEach statement will show important \\ninformation about your account, such as the \\nclosing balance, the minimum payment due, \\ndue date and Charges on your Account.  \\nAlways check each statement for accuracy \\nand contact us as soon as possible if you  \\nneed more information about a Charge on  \\nany statement.\\nWe may send you notices (including notices or \\ninformation we are required or choose to send \\nyou, including about changes to this Agreement) \\non or together with your statements.'"
      ]
     },
     "execution_count": 7,
     "metadata": {},
     "output_type": "execute_result"
    }
   ],
   "source": [
    "pdf2 = PdfReader(r\"C:\\Users\\Michelle\\Data_Science_Code\\RAG-chatbot\\data\\credit_card_tncs.pdf\")\n",
    "pdf2_page6 = pdf2.pages[6].extract_text()\n",
    "pdf2_page6"
   ]
  }
 ],
 "metadata": {
  "kernelspec": {
   "display_name": ".venv",
   "language": "python",
   "name": "python3"
  },
  "language_info": {
   "codemirror_mode": {
    "name": "ipython",
    "version": 3
   },
   "file_extension": ".py",
   "mimetype": "text/x-python",
   "name": "python",
   "nbconvert_exporter": "python",
   "pygments_lexer": "ipython3",
   "version": "3.11.0"
  }
 },
 "nbformat": 4,
 "nbformat_minor": 2
}
