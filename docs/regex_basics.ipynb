{
 "cells": [
  {
   "cell_type": "markdown",
   "metadata": {},
   "source": [
    "## Experimenting with Regex\n",
    "\n",
    "Trying to master the basics of Regex.\n",
    "\n",
    "Links:\n",
    "* https://www.w3schools.com/python/python_regex.asp\n",
    "* https://github.com/ziishaned/learn-regex?tab=readme-ov-file\n"
   ]
  },
  {
   "cell_type": "code",
   "execution_count": 38,
   "metadata": {},
   "outputs": [
    {
     "name": "stdout",
     "output_type": "stream",
     "text": [
      "<re.Match object; span=(0, 17), match='The rain in Spain'>\n"
     ]
    }
   ],
   "source": [
    "import re\n",
    "text = \"The rain in Spain\"\n",
    "x = re.search(\"^The.*Spain$\", text)\n",
    "print(x)\n",
    "# search will return match if true"
   ]
  },
  {
   "cell_type": "code",
   "execution_count": 23,
   "metadata": {},
   "outputs": [
    {
     "data": {
      "text/plain": [
       "'AMERICAN EXPRESS CREDIT CARD INSURANCE9The following examples are provided to illustrate how Y our cover may be affected by changes to Y our Card.\\nExample A – No American Express Card Account in place at the\\ndate of claim EventExample B – Different American Express card in place at the\\ndate of claim Event\\nJoan holds an American Express Card Account that has travel insurance \\ncover and makes a Qualifying T ravel Purchase for a T rip that she intends to \\ntake later in the year.\\nBefore she starts her T rip, Joan decides to cancel her American Express \\nCard Account. Upon cancelling her American Express Card Account, Joan \\ndoes not apply for another American Express card.\\nSubsequently, Joan travels and unfortunately her luggage is lost in transit to \\nher scheduled destination.\\nJoan does not have any entitlement to make a claim under the Policy for \\nthe lost luggage as Joan had cancelled the American Express Card Account, \\nwhich means Joan did not hold a valid American Express Card Account at \\nthe date of the claim Event and therefore no longer has access to the travel \\ninsurance cover.Tim makes a Qualifying T ravel Purchase for a T rip using his American Express \\nCard Account that has travel insurance cover.\\nPrior to travelling, Tim arranges with American Express to downgrade his \\ncard to another American Express card with a lower fee that has less travel \\ninsurance benefits.\\nOn the T rip, Tim suffers an Injury. The previous American Express Card \\nAccount which Tim held included Medical Emergency Expenses cover, but \\nthe new card held by Tim at the date of the claim Event does not include \\nMedical Emergency Expenses cover.\\nTim cannot therefore make a claim for Medical Emergency Expenses as the \\npolicy in-force at the date of the claim Event does not include this type of \\ncover.\\nFor medical and travel emergencies, please contact Chubb Assistance on +61 2 8907 5666.\\nFor claims and general enquiries about this Policy, please contact Chubb:\\nAddress:                              Grosvenor Place, Level 38, 225 George Street, SYDNEY NSW 2000 Australia\\nPostal Address:                 GPO Box 4907 , SYDNEY NSW 2001\\nT elephone:                          1800 236 023\\nOverseas T elephone:       +61 2 9335 3492\\nEmail:                                   CardmemberServices.ANZ@Chubb.com\\nNot an emergency?\\nMaking a claim is quick and easy. Y ou can submit Y our claim online by visiting the Chubb Claims Centre for American Express:\\nwww.americanexpress.com/australia/claims\\nCoverage Summary\\nIMPORTANT\\n• The following table is a summary of cover only, it is not an exhaustive list of all limits, terms, conditions or exclusions in this Policy. It is intended to \\nbe a quick reference tool to help Y ou understand the main benefits and some exclusions that apply.\\n• Y ou should always read the full Policy for comprehensive details.'"
      ]
     },
     "execution_count": 23,
     "metadata": {},
     "output_type": "execute_result"
    }
   ],
   "source": [
    "from pypdf import PdfReader\n",
    "pdf = PdfReader(r\"C:\\Users\\Michelle\\Data_Science_Code\\RAG-chatbot\\data\\insurance_terms_and_conditions.pdf\")\n",
    "page10 = pdf.pages[10].extract_text()\n",
    "page10"
   ]
  },
  {
   "cell_type": "code",
   "execution_count": 24,
   "metadata": {},
   "outputs": [
    {
     "name": "stdout",
     "output_type": "stream",
     "text": [
      "AMERICAN EXPRESS CREDIT CARD INSURANCE9The following examples are provided to illustrate how Y our cover may be affected by changes to Y our Card.\n",
      "Example A – No American Express Card Account in place at the\n",
      "date of claim EventExample B – Different American Express card in place at the\n",
      "date of claim Event\n",
      "Joan holds an American Express Card Account that has travel insurance \n",
      "cover and makes a Qualifying T ravel Purchase for a T rip that she intends to \n",
      "take later in the year.\n",
      "Before she starts her T rip, Joan decides to cancel her American Express \n",
      "Card Account. Upon cancelling her American Express Card Account, Joan \n",
      "does not apply for another American Express card.\n",
      "Subsequently, Joan travels and unfortunately her luggage is lost in transit to \n",
      "her scheduled destination.\n",
      "Joan does not have any entitlement to make a claim under the Policy for \n",
      "the lost luggage as Joan had cancelled the American Express Card Account, \n",
      "which means Joan did not hold a valid American Express Card Account at \n",
      "the date of the claim Event and therefore no longer has access to the travel \n",
      "insurance cover.Tim makes a Qualifying T ravel Purchase for a T rip using his American Express \n",
      "Card Account that has travel insurance cover.\n",
      "Prior to travelling, Tim arranges with American Express to downgrade his \n",
      "card to another American Express card with a lower fee that has less travel \n",
      "insurance benefits.\n",
      "On the T rip, Tim suffers an Injury. The previous American Express Card \n",
      "Account which Tim held included Medical Emergency Expenses cover, but \n",
      "the new card held by Tim at the date of the claim Event does not include \n",
      "Medical Emergency Expenses cover.\n",
      "Tim cannot therefore make a claim for Medical Emergency Expenses as the \n",
      "policy in-force at the date of the claim Event does not include this type of \n",
      "cover.\n",
      "For medical and travel emergencies, please contact Chubb Assistance on +61 2 8907 5666.\n",
      "For claims and general enquiries about this Policy, please contact Chubb:\n",
      "Address:                              Grosvenor Place, Level 38, 225 George Street, SYDNEY NSW 2000 Australia\n",
      "Postal Address:                 GPO Box 4907 , SYDNEY NSW 2001\n",
      "T elephone:                          1800 236 023\n",
      "Overseas T elephone:       +61 2 9335 3492\n",
      "Email:                                   CardmemberServices.ANZ@Chubb.com\n",
      "Not an emergency?\n",
      "Making a claim is quick and easy. Y ou can submit Y our claim online by visiting the Chubb Claims Centre for American Express:\n",
      "www.americanexpress.com/australia/claims\n",
      "Coverage Summary\n",
      "IMPORTANT\n",
      "• The following table is a summary of cover only, it is not an exhaustive list of all limits, terms, conditions or exclusions in this Policy. It is intended to \n",
      "be a quick reference tool to help Y ou understand the main benefits and some exclusions that apply.\n",
      "• Y ou should always read the full Policy for comprehensive details.\n"
     ]
    }
   ],
   "source": [
    "print(page10)"
   ]
  },
  {
   "cell_type": "markdown",
   "metadata": {},
   "source": [
    "I notice for this document that there are often random spaces after Y or T but not always. There are also alot of new lines but none that are flanked by spaces on both sides. Sometimes the \"\\n\" need to be replaced be a space and sometimes not so I will replace with a space because that does less damage to the semantic meaning of the text.\n",
    "\n",
    "My text requires different processing from [this github repo project.](https://github.com/avrabyt/RAG-Chatbot)"
   ]
  },
  {
   "cell_type": "code",
   "execution_count": 39,
   "metadata": {},
   "outputs": [
    {
     "name": "stdout",
     "output_type": "stream",
     "text": [
      "AMERICAN EXPRESS CREDIT CARD INSURANCE9The following examples are provided to illustrate how Your cover may be affected by changes to Your Card. Example A – No American Express Card Account in place at the date of claim EventExample B – Different American Express card in place at the date of claim Event Joan holds an American Express Card Account that has travel insurance  cover and makes a Qualifying Travel Purchase for a Trip that she intends to  take later in the year. Before she starts her Trip, Joan decides to cancel her American Express  Card Account. Upon cancelling her American Express Card Account, Joan  does not apply for another American Express card. Subsequently, Joan travels and unfortunately her luggage is lost in transit to  her scheduled destination. Joan does not have any entitlement to make a claim under the Policy for  the lost luggage as Joan had cancelled the American Express Card Account,  which means Joan did not hold a valid American Express Card Account at  the date of the claim Event and therefore no longer has access to the travel  insurance cover.Tim makes a Qualifying Travel Purchase for a Trip using his American Express  Card Account that has travel insurance cover. Prior to travelling, Tim arranges with American Express to downgrade his  card to another American Express card with a lower fee that has less travel  insurance benefits. On the Trip, Tim suffers an Injury. The previous American Express Card  Account which Tim held included Medical Emergency Expenses cover, but  the new card held by Tim at the date of the claim Event does not include  Medical Emergency Expenses cover. Tim cannot therefore make a claim for Medical Emergency Expenses as the  policy in-force at the date of the claim Event does not include this type of  cover. For medical and travel emergencies, please contact Chubb Assistance on +61 2 8907 5666. For claims and general enquiries about this Policy, please contact Chubb: Address:                              Grosvenor Place, Level 38, 225 George Street, SYDNEY NSW 2000 Australia Postal Address:                 GPO Box 4907 , SYDNEY NSW 2001 Telephone:                          1800 236 023 Overseas Telephone:       +61 2 9335 3492 Email:                                   CardmemberServices.ANZ@Chubb.com Not an emergency? Making a claim is quick and easy. You can submit Your claim online by visiting the Chubb Claims Centre for American Express: www.americanexpress.com/australia/claims Coverage Summary IMPORTANT • The following table is a summary of cover only, it is not an exhaustive list of all limits, terms, conditions or exclusions in this Policy. It is intended to  be a quick reference tool to help You understand the main benefits and some exclusions that apply. • You should always read the full Policy for comprehensive details.\n"
     ]
    }
   ],
   "source": [
    "text = page10\n",
    "\n",
    "# re.sub is used to find and then replace certain parts of the text to clean it up\n",
    "\n",
    "# replace single newlines with spaces.\n",
    "text = re.sub(r\"\\n\", \" \",text)\n",
    "\n",
    "# for the insurance terms and conditions document - lots of cases of e.g. \"Y our\", \"T rip\", \"T ravel\"\n",
    "# if text has a \" T \" replace with \" T\" or \" Y \" replace with \" Y\" (basically remove space after)\n",
    "# change shouldn't affect other pdfs since T and Y are not words\n",
    "\n",
    "text = re.sub(r\" T \", r\" T\", text)\n",
    "text = re.sub(r\" Y \", r\" Y\", text)\n",
    "\n",
    "print(text)"
   ]
  },
  {
   "cell_type": "markdown",
   "metadata": {},
   "source": [
    "Checking formatting of other documents:"
   ]
  },
  {
   "cell_type": "code",
   "execution_count": 30,
   "metadata": {},
   "outputs": [
    {
     "data": {
      "text/plain": [
       "'notified to you from time to time, for every one Australian dollar (AUD) \\nspent on goods and services, charged and billed on the Card Account. \\nSubject to these terms and conditions, Qantas Points are calculated on \\neach purchase of goods or services charged to your Card. Only whole \\nQantas Points are credited. Accrued Points shall be rounded to the nearest \\nwhole Qantas Point in accordance with the generally accepted principles in \\nrespect of rounding rules. For details on the number of Qantas Points \\nawarded for each transaction type, please contact American Express using \\nthe telephone number printed on the back of your Card.\\n3.2  Exemptions\\n No Qantas Points accrue in respect of:\\n (a)  charges prepaid prior to the first billing statement for that Card \\nAccount following the Enrolment Date;\\n (b)  Cash advance and other cash services or cash equivalents;\\n (c)  American Express Travellers Cheque and gift cheque purchases;\\n (d) charges for dishonoured payments;\\n (e) interest charges;\\n (f) annual Card fees;\\n (g) late payment charges; and\\n (h)  all other fees and charges applied to the Card Account.\\n3.3  Balance transfers and amount transferred from other card accounts are \\nnot eligible for Qantas Points. American Express reserves the right to \\nchange this provision at any time and may offer Qantas Points on balance \\ntransfers as part of specific promotions and subject to any conditions it \\nthinks fit.\\n3.4  When the Basic Card Member or an Additional Card Member obtains \\na refund or reimbursement for items purchased on the Card or an \\nAdditional Card as applicable, a credit is posted to the Card Account in \\nthe amount of the refund or reimbursement. This credit will reduce the \\nAccrued Points to reflect the refund or reimbursement.\\n3.5   The Basic Card Member will accrue Bonus Points for every one \\nAustralian dollar charged and billed on the Card Account when the Basic \\nCard Member or an Additional Card Member makes a purchase with a \\nBonus Partner. Bonus Partners may change from time to time. Details \\nare available from American Express.\\n3.6   Spend on Additional Cards will accrue Points for the Basic Card Member.\\n3.7   Accrued Points are not the property of the Basic Card Member or an \\nAdditional Card Member and are not transferable to any other person \\nor entity or any other Card Account, whether by operation of law \\nor otherwise.\\n3.8  Accrued Points have no monetary value. \\n3.9  If any Card Account is not in good standing, the Basic Card Member’s \\nprivilege to earn Qantas Points may be cancelled or Accrued Points may \\nbe forfeited. American Express reserves the right to withdraw all Card \\nbenefits from the Basic Card Member and an Additional Card Member \\ndue to the Basic Card Member’s or an Additional Card Member’s failure \\nto adhere to the American Express Credit Card Conditions.\\n3.10   If a Basic Card Member cancels the Card Account, or if for any reason \\nAmerican Express cancels the Card Account, any Accrued Points will \\nbe forfeited.\\n3.11  Accrued Points will be automatically transferred to your Qantas Frequent \\nFlyer account on a monthly basis. The monthly Card Account statement \\nwill specify the number of Accrued Points accumulated during that \\nmonth and the number of Points transferred to your Qantas Frequent '"
      ]
     },
     "execution_count": 30,
     "metadata": {},
     "output_type": "execute_result"
    }
   ],
   "source": [
    "pdf1 = PdfReader(r\"C:\\Users\\Michelle\\Data_Science_Code\\RAG-chatbot\\data\\qantas_points_terms_and_conditions.pdf\")\n",
    "pdf1_page2 = pdf1.pages[2].extract_text()\n",
    "pdf1_page2"
   ]
  },
  {
   "cell_type": "code",
   "execution_count": 34,
   "metadata": {},
   "outputs": [
    {
     "data": {
      "text/plain": [
       "'- 7 -Fees you  \\nagree to payThe fees that apply to your Account are set out \\nand described in the Financial Table. You agree \\nto pay these fees and you authorise us to \\ncharge them to your Account when they are \\ndue. Except as noted in this Agreement, all \\nfees are non-refundable.\\nWe may change the fees, including changing \\nthe way they are calculated, when they are \\npayable or by imposing new fees.\\nWe will provide notice of any change as set out \\nin this Agreement. Please see the section titled \\n‘Making changes to this Agreement’.\\nSending you \\nstatements \\nand other \\ncommunica -\\ntionsWe will contact you from time to time to \\nmanage and administer your Account and the \\nbenefits and services on it. We may contact \\nyou in a variety of ways depending upon which \\ncontact details you have provided to us (for \\nexample, we may send a text to your mobile \\nphone number or an email to your email \\naddress). We may also contact you online \\nthrough our online sites and services (for \\nexample, within your profile on our website or \\none of our mobile applications).\\nWe will provide you with or make statements  \\nof account available to you normally once \\nevery month. We will either send them to you  \\nin the post or give you access to them online \\nbased on your choice. You can change your \\nchoice at any time, unless your Account only \\nallows online statements. If you choose or are \\nrequired to access online statements, we will \\nsend you an email with a link to your online \\nstatement when your statement is available.\\nIf there hasn’t been recent Account activity,  \\nif your Account is seriously overdue or if the \\nbalance is less than $10 or in credit, we may \\nnot produce a statement.\\nEach statement will show important \\ninformation about your account, such as the \\nclosing balance, the minimum payment due, \\ndue date and Charges on your Account.  \\nAlways check each statement for accuracy \\nand contact us as soon as possible if you  \\nneed more information about a Charge on  \\nany statement.\\nWe may send you notices (including notices or \\ninformation we are required or choose to send \\nyou, including about changes to this Agreement) \\non or together with your statements.'"
      ]
     },
     "execution_count": 34,
     "metadata": {},
     "output_type": "execute_result"
    }
   ],
   "source": [
    "pdf2 = PdfReader(r\"C:\\Users\\Michelle\\Data_Science_Code\\RAG-chatbot\\data\\credit_card_conditions.pdf\")\n",
    "pdf2_page6 = pdf2.pages[6].extract_text()\n",
    "pdf2_page6"
   ]
  }
 ],
 "metadata": {
  "kernelspec": {
   "display_name": ".venv",
   "language": "python",
   "name": "python3"
  },
  "language_info": {
   "codemirror_mode": {
    "name": "ipython",
    "version": 3
   },
   "file_extension": ".py",
   "mimetype": "text/x-python",
   "name": "python",
   "nbconvert_exporter": "python",
   "pygments_lexer": "ipython3",
   "version": "3.11.0"
  }
 },
 "nbformat": 4,
 "nbformat_minor": 2
}
